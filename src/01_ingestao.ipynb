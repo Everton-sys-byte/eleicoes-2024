{
 "cells": [
  {
   "cell_type": "markdown",
   "metadata": {},
   "source": [
    "Pega dados do CSV e joga para o banco de dados"
   ]
  },
  {
   "cell_type": "code",
   "execution_count": 4,
   "metadata": {},
   "outputs": [],
   "source": [
    "import pandas as pd\n",
    "import sqlalchemy\n",
    "import json"
   ]
  },
  {
   "cell_type": "code",
   "execution_count": 5,
   "metadata": {},
   "outputs": [],
   "source": [
    "# cria conexão com banco de dados para fazer ingestão dos dados (sqlite)\n",
    "engine = sqlalchemy.create_engine(\"sqlite:///../data/database.db\")"
   ]
  },
  {
   "cell_type": "code",
   "execution_count": 6,
   "metadata": {},
   "outputs": [],
   "source": [
    "# lê o arquivo jason e armazena em ingestions\n",
    "with open(\"ingestoes.json\", \"r\") as open_file:\n",
    "    ingestions = json.load(open_file)\n",
    "\n",
    "# passa por cada item da lista, e cria as tabelas\n",
    "for i in ingestions:\n",
    "    file_path = i['path']\n",
    "    df = pd.read_csv(file_path, encoding='latin-1', sep=';')\n",
    "    df.to_sql(i['table'], engine, if_exists=\"replace\", index=False)\n"
   ]
  }
 ],
 "metadata": {
  "kernelspec": {
   "display_name": "tse",
   "language": "python",
   "name": "python3"
  },
  "language_info": {
   "codemirror_mode": {
    "name": "ipython",
    "version": 3
   },
   "file_extension": ".py",
   "mimetype": "text/x-python",
   "name": "python",
   "nbconvert_exporter": "python",
   "pygments_lexer": "ipython3",
   "version": "3.13.0"
  }
 },
 "nbformat": 4,
 "nbformat_minor": 2
}
